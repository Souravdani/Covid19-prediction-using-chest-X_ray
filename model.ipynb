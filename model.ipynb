{
  "nbformat": 4,
  "nbformat_minor": 0,
  "metadata": {
    "colab": {
      "provenance": [],
      "gpuType": "T4",
      "authorship_tag": "ABX9TyPLN51hcgAWg/KwzOzLlSXc",
      "include_colab_link": true
    },
    "kernelspec": {
      "name": "python3",
      "display_name": "Python 3"
    },
    "language_info": {
      "name": "python"
    },
    "accelerator": "GPU",
    "gpuClass": "standard"
  },
  "cells": [
    {
      "cell_type": "markdown",
      "metadata": {
        "id": "view-in-github",
        "colab_type": "text"
      },
      "source": [
        "<a href=\"https://colab.research.google.com/github/Souravdani/Covid19-prediction-using-chest-X_ray/blob/main/model.ipynb\" target=\"_parent\"><img src=\"https://colab.research.google.com/assets/colab-badge.svg\" alt=\"Open In Colab\"/></a>"
      ]
    },
    {
      "cell_type": "code",
      "execution_count": null,
      "metadata": {
        "id": "zi9BP0_U_l1A"
      },
      "outputs": [],
      "source": [
        "# Dataset: http://cb.lk/covid_19\n"
      ]
    },
    {
      "cell_type": "code",
      "source": [
        "!wget http://cb.lk/covid_19"
      ],
      "metadata": {
        "id": "28IKTPu_AIk9"
      },
      "execution_count": null,
      "outputs": []
    },
    {
      "cell_type": "code",
      "source": [
        "!unzip covid_19"
      ],
      "metadata": {
        "id": "yZ5aC2umAxYV"
      },
      "execution_count": null,
      "outputs": []
    },
    {
      "cell_type": "code",
      "source": [
        "TRAIN_PATH= \"CovidDataset/Train\"\n",
        "VAL_PATH= \"CovidDataset/Test\"\n"
      ],
      "metadata": {
        "id": "flMCdcebBOsR"
      },
      "execution_count": null,
      "outputs": []
    },
    {
      "cell_type": "code",
      "source": [
        "import numpy\n",
        "import matplotlib.pyplot as plt\n",
        "import keras\n",
        "from keras.layers import * \n",
        "from keras.models import *\n",
        "from keras.preprocessing import image"
      ],
      "metadata": {
        "id": "zNwkDkfnCTn_"
      },
      "execution_count": 3,
      "outputs": []
    },
    {
      "cell_type": "code",
      "source": [
        "## CNN based model in Keras"
      ],
      "metadata": {
        "id": "T366vCY4CwTv"
      },
      "execution_count": null,
      "outputs": []
    },
    {
      "cell_type": "code",
      "source": [
        "model= Sequential()\n",
        "model.add(Conv2D(32,kernel_size=(3,3), activation= 'relu', input_shape= (224,224,3)))\n",
        "model.add(Conv2D(64,kernel_size=(3,3), activation= 'relu'))\n",
        "model.add(MaxPooling2D(pool_size=(2,2))) # pooling layer\n",
        "model.add(Dropout(0,25)) ## To prevent overfitting\n",
        "\n",
        "## Putting a convolutional layer with 32 number of filters\n",
        "## kernel size 3,3 is standard"
      ],
      "metadata": {
        "id": "WpWzmbZnC09X"
      },
      "execution_count": 7,
      "outputs": []
    },
    {
      "cell_type": "code",
      "source": [
        "## Keeping the number of filters small in the beginning because the lower \n",
        "# layers detect the features of the image in a very low part or few patterns"
      ],
      "metadata": {
        "id": "7B0uhW-FEzNY"
      },
      "execution_count": null,
      "outputs": []
    },
    {
      "cell_type": "code",
      "source": [
        "## As we go deeper into the network, the receptive field of the CNN layer increases i.e\n",
        "# the feature that it extracts is basically based on a bigger part in the original picture\n",
        "# And that is what is meant by a high level feature"
      ],
      "metadata": {
        "id": "PHXlRoBVEzh4"
      },
      "execution_count": null,
      "outputs": []
    },
    {
      "cell_type": "code",
      "source": [
        "model.add(Conv2D(64,kernel_size=(3,3), activation= 'relu'))\n",
        "model.add(MaxPooling2D(pool_size=(2,2)))\n",
        "model.add(Dropout(0,25))"
      ],
      "metadata": {
        "id": "1j60ztmwI7Hu"
      },
      "execution_count": 9,
      "outputs": []
    },
    {
      "cell_type": "code",
      "source": [
        "model.add(Conv2D(128,kernel_size=(3,3), activation= 'relu'))\n",
        "model.add(MaxPooling2D(pool_size=(2,2)))\n",
        "model.add(Dropout(0,25))"
      ],
      "metadata": {
        "id": "EsEazLkNJLoT"
      },
      "execution_count": 10,
      "outputs": []
    },
    {
      "cell_type": "code",
      "source": [
        "model.add(Flatten())\n",
        "model.add(Dense(64,activation='relu'))\n",
        "model.add(Dropout(0,25))\n",
        "model.add(Dense(1,activation='sigmoid'))"
      ],
      "metadata": {
        "id": "M_AXSpeQJlMt"
      },
      "execution_count": 13,
      "outputs": []
    },
    {
      "cell_type": "code",
      "source": [
        "model.compile(loss= keras.losses.binary_crossentropy,optimizer= \"adam\", metrics=[\"accuracy\"])"
      ],
      "metadata": {
        "id": "3twSobgGJ8t6"
      },
      "execution_count": 38,
      "outputs": []
    },
    {
      "cell_type": "code",
      "source": [
        "model.summary()"
      ],
      "metadata": {
        "id": "zS0vW6ucKPTD"
      },
      "execution_count": null,
      "outputs": []
    },
    {
      "cell_type": "code",
      "source": [
        "33 # Train from scratch\n",
        "train_datagen= image.ImageDataGenerator(\n",
        "    rescale=1./255,\n",
        "    shear_range=0.2,\n",
        "    zoom_range=0.2,\n",
        "    horizontal_flip= True\n",
        ")\n",
        "\n",
        "test_dataset= image.ImageDataGenerator(rescale=1./255)\n"
      ],
      "metadata": {
        "id": "uJmVfFagLCVM"
      },
      "execution_count": 40,
      "outputs": []
    },
    {
      "cell_type": "code",
      "source": [
        "train_generator= train_datagen.flow_from_directory(\n",
        "    \"CovidDataset/Train\",\n",
        "    target_size= (224,224),\n",
        "    batch_size=32,\n",
        "    class_mode= \"binary\"\n",
        ")\n",
        "\n"
      ],
      "metadata": {
        "colab": {
          "base_uri": "https://localhost:8080/"
        },
        "id": "2tz_oJqKM9bt",
        "outputId": "9f571f3f-036d-467e-ef62-6b975646b55a"
      },
      "execution_count": 41,
      "outputs": [
        {
          "output_type": "stream",
          "name": "stdout",
          "text": [
            "Found 224 images belonging to 2 classes.\n"
          ]
        }
      ]
    },
    {
      "cell_type": "code",
      "source": [
        "train_generator.class_indices"
      ],
      "metadata": {
        "colab": {
          "base_uri": "https://localhost:8080/"
        },
        "id": "X-wsoSzFN-BA",
        "outputId": "037774f4-0461-44e9-88b2-56c55877285c"
      },
      "execution_count": 42,
      "outputs": [
        {
          "output_type": "execute_result",
          "data": {
            "text/plain": [
              "{'Covid': 0, 'Normal': 1}"
            ]
          },
          "metadata": {},
          "execution_count": 42
        }
      ]
    },
    {
      "cell_type": "code",
      "source": [
        "validation_generator= test_dataset.flow_from_directory(\n",
        "    \"CovidDataset/Val\",\n",
        "    target_size= (224,224),\n",
        "    batch_size=32,\n",
        "    class_mode= \"binary\"\n",
        ")"
      ],
      "metadata": {
        "colab": {
          "base_uri": "https://localhost:8080/"
        },
        "id": "8GjvFPHtOK1S",
        "outputId": "14931f76-2c3f-4abf-e913-f8e0ff35bda2"
      },
      "execution_count": 43,
      "outputs": [
        {
          "output_type": "stream",
          "name": "stdout",
          "text": [
            "Found 60 images belonging to 2 classes.\n"
          ]
        }
      ]
    },
    {
      "cell_type": "code",
      "source": [
        "hist= model.fit_generator(\n",
        "    train_generator,\n",
        "    steps_per_epoch=8,\n",
        "    epochs=10,\n",
        "    validation_data= validation_generator,\n",
        "    validation_steps= 2\n",
        "\n",
        ")"
      ],
      "metadata": {
        "id": "WiYQXLT6Pgw1"
      },
      "execution_count": null,
      "outputs": []
    },
    {
      "cell_type": "code",
      "source": [],
      "metadata": {
        "id": "6CW6TvavP2xs"
      },
      "execution_count": null,
      "outputs": []
    }
  ]
}